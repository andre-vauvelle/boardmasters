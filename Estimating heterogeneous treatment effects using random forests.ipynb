{
 "cells": [
  {
   "cell_type": "markdown",
   "metadata": {},
   "source": [
    "First gen data "
   ]
  },
  {
   "cell_type": "code",
   "execution_count": 1,
   "metadata": {},
   "outputs": [
    {
     "name": "stderr",
     "output_type": "stream",
     "text": [
      "/Users/andrevauvelle/anaconda3/lib/python3.6/site-packages/matplotlib/font_manager.py:281: UserWarning: Matplotlib is building the font cache using fc-list. This may take a moment.\n",
      "  'Matplotlib is building the font cache using fc-list. '\n"
     ]
    }
   ],
   "source": [
    "import numpy as np\n",
    "import statsmodels.formula.api as sm\n",
    "import pandas as pd\n",
    "import random\n",
    "import matplotlib.pyplot as plt\n",
    "from sklearn import tree\n",
    "import scipy.interpolate"
   ]
  },
  {
   "cell_type": "code",
   "execution_count": 13,
   "metadata": {},
   "outputs": [
    {
     "name": "stdout",
     "output_type": "stream",
     "text": [
      "Estimating heterogeneous treatment effects using random forests.ipynb\r\n",
      "a.txt\r\n",
      "data.csv\r\n",
      "projectpitches.docx\r\n",
      "sort.py\r\n",
      "\u001b[1m\u001b[36mvenv\u001b[m\u001b[m/\r\n"
     ]
    }
   ],
   "source": [
    "ls"
   ]
  },
  {
   "cell_type": "code",
   "execution_count": 161,
   "metadata": {},
   "outputs": [
    {
     "name": "stderr",
     "output_type": "stream",
     "text": [
      "/Users/andrevauvelle/anaconda3/lib/python3.6/site-packages/IPython/core/interactiveshell.py:2728: DtypeWarning: Columns (29) have mixed types. Specify dtype option on import or set low_memory=False.\n",
      "  interactivity=interactivity, compiler=compiler, result=result)\n"
     ]
    }
   ],
   "source": [
    "df = pd.read_csv('data.csv')"
   ]
  },
  {
   "cell_type": "code",
   "execution_count": 162,
   "metadata": {},
   "outputs": [
    {
     "data": {
      "text/html": [
       "<div>\n",
       "<style scoped>\n",
       "    .dataframe tbody tr th:only-of-type {\n",
       "        vertical-align: middle;\n",
       "    }\n",
       "\n",
       "    .dataframe tbody tr th {\n",
       "        vertical-align: top;\n",
       "    }\n",
       "\n",
       "    .dataframe thead th {\n",
       "        text-align: right;\n",
       "    }\n",
       "</style>\n",
       "<table border=\"1\" class=\"dataframe\">\n",
       "  <thead>\n",
       "    <tr style=\"text-align: right;\">\n",
       "      <th></th>\n",
       "      <th>transfers.subject_id</th>\n",
       "      <th>transfers.hadm_id</th>\n",
       "      <th>transfers.icustay_id</th>\n",
       "      <th>transfers.eventtype</th>\n",
       "      <th>team_census</th>\n",
       "      <th>blocked_count</th>\n",
       "      <th>remaining_beds</th>\n",
       "      <th>icustay_los_total</th>\n",
       "      <th>icustay_los_boarder</th>\n",
       "      <th>icustay_boarder_initial</th>\n",
       "      <th>...</th>\n",
       "      <th>sofa_respiration</th>\n",
       "      <th>sofa_coagulation</th>\n",
       "      <th>sofa_liver</th>\n",
       "      <th>sofa_cardiovascular</th>\n",
       "      <th>sofa_cns</th>\n",
       "      <th>sofa_renal</th>\n",
       "      <th>days_survived_dt</th>\n",
       "      <th>days_survived_dt2</th>\n",
       "      <th>time_diff</th>\n",
       "      <th>icustay_outtime_deathtime_difference</th>\n",
       "    </tr>\n",
       "  </thead>\n",
       "  <tbody>\n",
       "    <tr>\n",
       "      <th>0</th>\n",
       "      <td>18</td>\n",
       "      <td>188822</td>\n",
       "      <td>298129</td>\n",
       "      <td>admit</td>\n",
       "      <td>14</td>\n",
       "      <td>4</td>\n",
       "      <td>0</td>\n",
       "      <td>30.92</td>\n",
       "      <td>30.92</td>\n",
       "      <td>1</td>\n",
       "      <td>...</td>\n",
       "      <td>NaN</td>\n",
       "      <td>0.0</td>\n",
       "      <td>0.0</td>\n",
       "      <td>0.0</td>\n",
       "      <td>3.0</td>\n",
       "      <td>0.0</td>\n",
       "      <td>NaN</td>\n",
       "      <td>NaN</td>\n",
       "      <td>NaN</td>\n",
       "      <td>NaN</td>\n",
       "    </tr>\n",
       "    <tr>\n",
       "      <th>1</th>\n",
       "      <td>33</td>\n",
       "      <td>176176</td>\n",
       "      <td>296681</td>\n",
       "      <td>admit</td>\n",
       "      <td>11</td>\n",
       "      <td>5</td>\n",
       "      <td>1</td>\n",
       "      <td>37.30</td>\n",
       "      <td>0.00</td>\n",
       "      <td>0</td>\n",
       "      <td>...</td>\n",
       "      <td>NaN</td>\n",
       "      <td>0.0</td>\n",
       "      <td>0.0</td>\n",
       "      <td>1.0</td>\n",
       "      <td>0.0</td>\n",
       "      <td>0.0</td>\n",
       "      <td>NaN</td>\n",
       "      <td>NaN</td>\n",
       "      <td>NaN</td>\n",
       "      <td>NaN</td>\n",
       "    </tr>\n",
       "    <tr>\n",
       "      <th>2</th>\n",
       "      <td>52</td>\n",
       "      <td>190797</td>\n",
       "      <td>261857</td>\n",
       "      <td>admit</td>\n",
       "      <td>17</td>\n",
       "      <td>0</td>\n",
       "      <td>1</td>\n",
       "      <td>44.41</td>\n",
       "      <td>0.00</td>\n",
       "      <td>0</td>\n",
       "      <td>...</td>\n",
       "      <td>NaN</td>\n",
       "      <td>3.0</td>\n",
       "      <td>3.0</td>\n",
       "      <td>1.0</td>\n",
       "      <td>0.0</td>\n",
       "      <td>0.0</td>\n",
       "      <td>NaN</td>\n",
       "      <td>NaN</td>\n",
       "      <td>NaN</td>\n",
       "      <td>NaN</td>\n",
       "    </tr>\n",
       "    <tr>\n",
       "      <th>3</th>\n",
       "      <td>59</td>\n",
       "      <td>104130</td>\n",
       "      <td>224440</td>\n",
       "      <td>admit</td>\n",
       "      <td>15</td>\n",
       "      <td>0</td>\n",
       "      <td>4</td>\n",
       "      <td>52.84</td>\n",
       "      <td>0.00</td>\n",
       "      <td>0</td>\n",
       "      <td>...</td>\n",
       "      <td>NaN</td>\n",
       "      <td>0.0</td>\n",
       "      <td>0.0</td>\n",
       "      <td>1.0</td>\n",
       "      <td>0.0</td>\n",
       "      <td>4.0</td>\n",
       "      <td>NaN</td>\n",
       "      <td>NaN</td>\n",
       "      <td>NaN</td>\n",
       "      <td>NaN</td>\n",
       "    </tr>\n",
       "    <tr>\n",
       "      <th>4</th>\n",
       "      <td>62</td>\n",
       "      <td>116009</td>\n",
       "      <td>216609</td>\n",
       "      <td>admit</td>\n",
       "      <td>11</td>\n",
       "      <td>6</td>\n",
       "      <td>0</td>\n",
       "      <td>67.82</td>\n",
       "      <td>67.82</td>\n",
       "      <td>1</td>\n",
       "      <td>...</td>\n",
       "      <td>NaN</td>\n",
       "      <td>1.0</td>\n",
       "      <td>NaN</td>\n",
       "      <td>3.0</td>\n",
       "      <td>0.0</td>\n",
       "      <td>0.0</td>\n",
       "      <td>NaN</td>\n",
       "      <td>NaN</td>\n",
       "      <td>NaN</td>\n",
       "      <td>NaN</td>\n",
       "    </tr>\n",
       "  </tbody>\n",
       "</table>\n",
       "<p>5 rows × 132 columns</p>\n",
       "</div>"
      ],
      "text/plain": [
       "   transfers.subject_id  transfers.hadm_id  transfers.icustay_id  \\\n",
       "0                    18             188822                298129   \n",
       "1                    33             176176                296681   \n",
       "2                    52             190797                261857   \n",
       "3                    59             104130                224440   \n",
       "4                    62             116009                216609   \n",
       "\n",
       "  transfers.eventtype  team_census  blocked_count  remaining_beds  \\\n",
       "0               admit           14              4               0   \n",
       "1               admit           11              5               1   \n",
       "2               admit           17              0               1   \n",
       "3               admit           15              0               4   \n",
       "4               admit           11              6               0   \n",
       "\n",
       "   icustay_los_total  icustay_los_boarder  icustay_boarder_initial  \\\n",
       "0              30.92                30.92                        1   \n",
       "1              37.30                 0.00                        0   \n",
       "2              44.41                 0.00                        0   \n",
       "3              52.84                 0.00                        0   \n",
       "4              67.82                67.82                        1   \n",
       "\n",
       "                   ...                   sofa_respiration  sofa_coagulation  \\\n",
       "0                  ...                                NaN               0.0   \n",
       "1                  ...                                NaN               0.0   \n",
       "2                  ...                                NaN               3.0   \n",
       "3                  ...                                NaN               0.0   \n",
       "4                  ...                                NaN               1.0   \n",
       "\n",
       "   sofa_liver  sofa_cardiovascular  sofa_cns  sofa_renal  days_survived_dt  \\\n",
       "0         0.0                  0.0       3.0         0.0               NaN   \n",
       "1         0.0                  1.0       0.0         0.0               NaN   \n",
       "2         3.0                  1.0       0.0         0.0               NaN   \n",
       "3         0.0                  1.0       0.0         4.0               NaN   \n",
       "4         NaN                  3.0       0.0         0.0               NaN   \n",
       "\n",
       "   days_survived_dt2  time_diff  icustay_outtime_deathtime_difference  \n",
       "0                NaN        NaN                                   NaN  \n",
       "1                NaN        NaN                                   NaN  \n",
       "2                NaN        NaN                                   NaN  \n",
       "3                NaN        NaN                                   NaN  \n",
       "4                NaN        NaN                                   NaN  \n",
       "\n",
       "[5 rows x 132 columns]"
      ]
     },
     "execution_count": 162,
     "metadata": {},
     "output_type": "execute_result"
    }
   ],
   "source": [
    "df.head()"
   ]
  },
  {
   "cell_type": "code",
   "execution_count": 163,
   "metadata": {},
   "outputs": [
    {
     "ename": "ValueError",
     "evalue": "operands could not be broadcast together with shapes (8437,) (8442,) ",
     "output_type": "error",
     "traceback": [
      "\u001b[0;31m---------------------------------------------------------------------------\u001b[0m",
      "\u001b[0;31mValueError\u001b[0m                                Traceback (most recent call last)",
      "\u001b[0;32m<ipython-input-163-afc3ab0e58a3>\u001b[0m in \u001b[0;36m<module>\u001b[0;34m()\u001b[0m\n\u001b[1;32m     12\u001b[0m \u001b[0mdrop1\u001b[0m \u001b[0;34m=\u001b[0m \u001b[0mnp\u001b[0m\u001b[0;34m.\u001b[0m\u001b[0misnan\u001b[0m\u001b[0;34m(\u001b[0m\u001b[0mtauxy\u001b[0m\u001b[0;34m.\u001b[0m\u001b[0mvalues\u001b[0m\u001b[0;34m)\u001b[0m\u001b[0;34m\u001b[0m\u001b[0m\n\u001b[1;32m     13\u001b[0m \u001b[0mdrop2\u001b[0m \u001b[0;34m=\u001b[0m \u001b[0mnp\u001b[0m\u001b[0;34m.\u001b[0m\u001b[0misnan\u001b[0m\u001b[0;34m(\u001b[0m\u001b[0mX\u001b[0m\u001b[0;34m.\u001b[0m\u001b[0mvalues\u001b[0m\u001b[0;34m)\u001b[0m\u001b[0;34m.\u001b[0m\u001b[0many\u001b[0m\u001b[0;34m(\u001b[0m\u001b[0maxis\u001b[0m\u001b[0;34m=\u001b[0m\u001b[0;36m1\u001b[0m\u001b[0;34m)\u001b[0m\u001b[0;34m\u001b[0m\u001b[0m\n\u001b[0;32m---> 14\u001b[0;31m \u001b[0mdrop\u001b[0m \u001b[0;34m=\u001b[0m \u001b[0mdrop1\u001b[0m \u001b[0;34m|\u001b[0m \u001b[0mdrop2\u001b[0m\u001b[0;34m\u001b[0m\u001b[0m\n\u001b[0m\u001b[1;32m     15\u001b[0m \u001b[0mtauxy\u001b[0m \u001b[0;34m=\u001b[0m \u001b[0mtauxy\u001b[0m\u001b[0;34m[\u001b[0m\u001b[0;34m(\u001b[0m\u001b[0;34m~\u001b[0m\u001b[0mdrop\u001b[0m\u001b[0;34m)\u001b[0m\u001b[0;34m]\u001b[0m\u001b[0;34m.\u001b[0m\u001b[0mreset_index\u001b[0m\u001b[0;34m(\u001b[0m\u001b[0mdrop\u001b[0m\u001b[0;34m=\u001b[0m\u001b[0;32mTrue\u001b[0m\u001b[0;34m)\u001b[0m\u001b[0;34m\u001b[0m\u001b[0m\n\u001b[1;32m     16\u001b[0m \u001b[0mX\u001b[0m \u001b[0;34m=\u001b[0m \u001b[0mX\u001b[0m\u001b[0;34m[\u001b[0m\u001b[0;34m~\u001b[0m\u001b[0mdrop\u001b[0m\u001b[0;34m]\u001b[0m\u001b[0;34m.\u001b[0m\u001b[0mreset_index\u001b[0m\u001b[0;34m(\u001b[0m\u001b[0mdrop\u001b[0m\u001b[0;34m=\u001b[0m\u001b[0;32mTrue\u001b[0m\u001b[0;34m)\u001b[0m\u001b[0;34m\u001b[0m\u001b[0m\n",
      "\u001b[0;31mValueError\u001b[0m: operands could not be broadcast together with shapes (8437,) (8442,) "
     ]
    }
   ],
   "source": [
    "#columns = ('congestive_heart_failure', 'cardiac_arrhythmias', 'valvular_disease', 'pulmonary_circulation', 'peripheral_vascular', 'hypertension')\n",
    "columns = ('remaining_beds', 'icustay_admit_age', 'gender', 'oasis', 'elixhauser_28day', 'team_census')\n",
    "\n",
    "# No. dimensions of covariates\n",
    "d = len(columns)\n",
    "\n",
    "X = df.loc[:,columns].reset_index(drop=True)\n",
    "\n",
    "tau = df['days_survived']\n",
    "\n",
    "# Remove nans\n",
    "drop1 = np.isnan(tauxy.values)\n",
    "drop2 = np.isnan(X.values).any(axis=1)\n",
    "drop = drop1 | drop2\n",
    "tauxy = tauxy[(~drop)].reset_index(drop=True)\n",
    "X = X[~drop].reset_index(drop=True)"
   ]
  },
  {
   "cell_type": "code",
   "execution_count": 160,
   "metadata": {},
   "outputs": [],
   "source": [
    "# Draw a random subsample of size s.\n",
    "n = X.shape[0]\n",
    "s = n/2\n",
    "# Choose s ints between 0 and n randomly\n",
    "subSampleMask = random.sample(range(0, n), int(s))\n",
    "# Create set I\n",
    "setIMask = random.sample(subSampleMask, np.int(np.ceil(s/2.)))\n",
    "setI = [X.iloc[setIMask]]\n",
    "dfSetI = pd.DataFrame(data=X.iloc[setIMask])\n",
    "# Create set J\n",
    "setJMask = [i for i in subSampleMask if i not in setIMask]\n",
    "setJ = [X.iloc[setJMask]]"
   ]
  },
  {
   "cell_type": "code",
   "execution_count": 156,
   "metadata": {},
   "outputs": [],
   "source": [
    "# Create tree on the J set\n",
    "clf = tree.DecisionTreeRegressor(criterion='mse')\n",
    "clf = clf.fit(setJ[0], tau[setJMask])"
   ]
  },
  {
   "cell_type": "code",
   "execution_count": 157,
   "metadata": {},
   "outputs": [
    {
     "data": {
      "text/plain": [
       "DecisionTreeRegressor(criterion='mse', max_depth=None, max_features=None,\n",
       "           max_leaf_nodes=None, min_impurity_decrease=0.0,\n",
       "           min_impurity_split=None, min_samples_leaf=1,\n",
       "           min_samples_split=2, min_weight_fraction_leaf=0.0,\n",
       "           presort=False, random_state=None, splitter='best')"
      ]
     },
     "execution_count": 157,
     "metadata": {},
     "output_type": "execute_result"
    }
   ],
   "source": [
    "clf"
   ]
  },
  {
   "cell_type": "code",
   "execution_count": 158,
   "metadata": {},
   "outputs": [
    {
     "data": {
      "text/plain": [
       "-0.0033554555896646576"
      ]
     },
     "execution_count": 158,
     "metadata": {},
     "output_type": "execute_result"
    }
   ],
   "source": [
    "tau_hat = clf.predict(dfSetI.iloc[:,:d])\n",
    "# Out of sample R^2:\n",
    "clf.score(dfSetI.iloc[:,:d],tau[setIMask])"
   ]
  },
  {
   "cell_type": "code",
   "execution_count": 147,
   "metadata": {},
   "outputs": [],
   "source": [
    "def plotResults(dfSetI,tau_hat):\n",
    "    # Set up a regular grid of interpolation points\n",
    "    xi, yi = np.linspace(dfSetI.iloc[:,0].min(),\n",
    "                         dfSetI.iloc[:,0].max(), 100), np.linspace(dfSetI.iloc[:,1].min(), dfSetI.iloc[:,1].max(), 100)\n",
    "    xi, yi = np.meshgrid(xi, yi)\n",
    "    # Interpolate\n",
    "    rbf = scipy.interpolate.Rbf(dfSetI.iloc[:,0], dfSetI.iloc[:,1], tau_hat, function='linear')\n",
    "    zi = rbf(xi, yi)\n",
    "\n",
    "    plt.imshow(zi, vmin=1., vmax=4., origin='lower',\n",
    "               extent=[dfSetI.iloc[:,0].min(), dfSetI.iloc[:,0].max(), dfSetI.iloc[:,1].min(), dfSetI.iloc[:,1].max()],\n",
    "              cmap='plasma')\n",
    "    plt.colorbar()\n",
    "    plt.show()"
   ]
  },
  {
   "cell_type": "code",
   "execution_count": null,
   "metadata": {},
   "outputs": [],
   "source": []
  }
 ],
 "metadata": {
  "kernelspec": {
   "display_name": "Python 3",
   "language": "python",
   "name": "python3"
  },
  "language_info": {
   "codemirror_mode": {
    "name": "ipython",
    "version": 3
   },
   "file_extension": ".py",
   "mimetype": "text/x-python",
   "name": "python",
   "nbconvert_exporter": "python",
   "pygments_lexer": "ipython3",
   "version": "3.6.4"
  }
 },
 "nbformat": 4,
 "nbformat_minor": 2
}
